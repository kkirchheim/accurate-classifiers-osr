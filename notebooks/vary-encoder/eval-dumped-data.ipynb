{
 "cells": [
  {
   "cell_type": "markdown",
   "metadata": {
    "collapsed": true,
    "pycharm": {
     "name": "#%% md\n"
    }
   },
   "source": [
    "# Eval Dumped data"
   ]
  },
  {
   "cell_type": "code",
   "execution_count": 3,
   "outputs": [
    {
     "name": "stdout",
     "output_type": "stream",
     "text": [
      "/home/ki/projects/work/osr/data/experiments/vary-encoder-test-2021-02-09-18-06-35/tiny-imagenet/softmax/20210209-18-06-36/version_22\n",
      "/home/ki/projects/work/osr/data/experiments/vary-encoder-test-2021-02-09-18-06-35/tiny-imagenet/softmax/20210209-18-06-36/version_13\n",
      "/home/ki/projects/work/osr/data/experiments/vary-encoder-test-2021-02-09-18-06-35/tiny-imagenet/softmax/20210209-18-06-36/version_18\n",
      "/home/ki/projects/work/osr/data/experiments/vary-encoder-test-2021-02-09-18-06-35/tiny-imagenet/softmax/20210209-18-06-36/version_40\n",
      "/home/ki/projects/work/osr/data/experiments/vary-encoder-test-2021-02-09-18-06-35/tiny-imagenet/softmax/20210209-18-06-36/version_29\n",
      "/home/ki/projects/work/osr/data/experiments/vary-encoder-test-2021-02-09-18-06-35/tiny-imagenet/softmax/20210209-18-06-36/version_31\n",
      "/home/ki/projects/work/osr/data/experiments/vary-encoder-test-2021-02-09-18-06-35/tiny-imagenet/softmax/20210209-18-06-36/version_32\n",
      "/home/ki/projects/work/osr/data/experiments/vary-encoder-test-2021-02-09-18-06-35/tiny-imagenet/softmax/20210209-18-06-36/version_21\n",
      "/home/ki/projects/work/osr/data/experiments/vary-encoder-test-2021-02-09-18-06-35/tiny-imagenet/softmax/20210209-18-06-36/version_24\n",
      "/home/ki/projects/work/osr/data/experiments/vary-encoder-test-2021-02-09-18-06-35/tiny-imagenet/softmax/20210209-18-06-36/version_11\n",
      "/home/ki/projects/work/osr/data/experiments/vary-encoder-test-2021-02-09-18-06-35/tiny-imagenet/softmax/20210209-18-06-36/version_37\n",
      "/home/ki/projects/work/osr/data/experiments/vary-encoder-test-2021-02-09-18-06-35/tiny-imagenet/softmax/20210209-18-06-36/version_9\n",
      "/home/ki/projects/work/osr/data/experiments/vary-encoder-test-2021-02-09-18-06-35/tiny-imagenet/softmax/20210209-18-06-36/version_34\n",
      "/home/ki/projects/work/osr/data/experiments/vary-encoder-test-2021-02-09-18-06-35/tiny-imagenet/softmax/20210209-18-06-36/version_30\n",
      "/home/ki/projects/work/osr/data/experiments/vary-encoder-test-2021-02-09-18-06-35/tiny-imagenet/softmax/20210209-18-06-36/version_5\n",
      "/home/ki/projects/work/osr/data/experiments/vary-encoder-test-2021-02-09-18-06-35/tiny-imagenet/softmax/20210209-18-06-36/version_27\n",
      "/home/ki/projects/work/osr/data/experiments/vary-encoder-test-2021-02-09-18-06-35/tiny-imagenet/softmax/20210209-18-06-36/version_16\n",
      "/home/ki/projects/work/osr/data/experiments/vary-encoder-test-2021-02-09-18-06-35/tiny-imagenet/softmax/20210209-18-06-36/version_2\n",
      "/home/ki/projects/work/osr/data/experiments/vary-encoder-test-2021-02-09-18-06-35/tiny-imagenet/softmax/20210209-18-06-36/version_25\n",
      "/home/ki/projects/work/osr/data/experiments/vary-encoder-test-2021-02-09-18-06-35/tiny-imagenet/softmax/20210209-18-06-36/version_12\n",
      "/home/ki/projects/work/osr/data/experiments/vary-encoder-test-2021-02-09-18-06-35/tiny-imagenet/softmax/20210209-18-06-36/version_28\n",
      "/home/ki/projects/work/osr/data/experiments/vary-encoder-test-2021-02-09-18-06-35/tiny-imagenet/softmax/20210209-18-06-36/version_20\n",
      "/home/ki/projects/work/osr/data/experiments/vary-encoder-test-2021-02-09-18-06-35/tiny-imagenet/softmax/20210209-18-06-36/version_14\n",
      "/home/ki/projects/work/osr/data/experiments/vary-encoder-test-2021-02-09-18-06-35/tiny-imagenet/softmax/20210209-18-06-36/version_15\n",
      "/home/ki/projects/work/osr/data/experiments/vary-encoder-test-2021-02-09-18-06-35/tiny-imagenet/softmax/20210209-18-06-36/version_39\n",
      "/home/ki/projects/work/osr/data/experiments/vary-encoder-test-2021-02-09-18-06-35/tiny-imagenet/softmax/20210209-18-06-36/version_35\n",
      "/home/ki/projects/work/osr/data/experiments/vary-encoder-test-2021-02-09-18-06-35/tiny-imagenet/softmax/20210209-18-06-36/version_4\n",
      "/home/ki/projects/work/osr/data/experiments/vary-encoder-test-2021-02-09-18-06-35/tiny-imagenet/softmax/20210209-18-06-36/version_0\n",
      "/home/ki/projects/work/osr/data/experiments/vary-encoder-test-2021-02-09-18-06-35/tiny-imagenet/softmax/20210209-18-06-36/version_38\n",
      "/home/ki/projects/work/osr/data/experiments/vary-encoder-test-2021-02-09-18-06-35/tiny-imagenet/softmax/20210209-18-06-36/version_10\n",
      "/home/ki/projects/work/osr/data/experiments/vary-encoder-test-2021-02-09-18-06-35/tiny-imagenet/softmax/20210209-18-06-36/version_17\n",
      "/home/ki/projects/work/osr/data/experiments/vary-encoder-test-2021-02-09-18-06-35/tiny-imagenet/softmax/20210209-18-06-36/version_1\n",
      "/home/ki/projects/work/osr/data/experiments/vary-encoder-test-2021-02-09-18-06-35/tiny-imagenet/softmax/20210209-18-06-36/version_8\n",
      "/home/ki/projects/work/osr/data/experiments/vary-encoder-test-2021-02-09-18-06-35/tiny-imagenet/softmax/20210209-18-06-36/version_6\n",
      "/home/ki/projects/work/osr/data/experiments/vary-encoder-test-2021-02-09-18-06-35/tiny-imagenet/softmax/20210209-18-06-36/version_36\n",
      "/home/ki/projects/work/osr/data/experiments/vary-encoder-test-2021-02-09-18-06-35/tiny-imagenet/softmax/20210209-18-06-36/version_19\n",
      "/home/ki/projects/work/osr/data/experiments/vary-encoder-test-2021-02-09-18-06-35/tiny-imagenet/softmax/20210209-18-06-36/version_33\n",
      "/home/ki/projects/work/osr/data/experiments/vary-encoder-test-2021-02-09-18-06-35/tiny-imagenet/softmax/20210209-18-06-36/version_23\n",
      "/home/ki/projects/work/osr/data/experiments/vary-encoder-test-2021-02-09-18-06-35/tiny-imagenet/softmax/20210209-18-06-36/version_41\n",
      "/home/ki/projects/work/osr/data/experiments/vary-encoder-test-2021-02-09-18-06-35/tiny-imagenet/softmax/20210209-18-06-36/version_3\n",
      "/home/ki/projects/work/osr/data/experiments/vary-encoder-test-2021-02-09-18-06-35/tiny-imagenet/softmax/20210209-18-06-36/version_7\n",
      "/home/ki/projects/work/osr/data/experiments/vary-encoder-test-2021-02-09-18-06-35/tiny-imagenet/softmax/20210209-18-06-36/version_26\n"
     ]
    }
   ],
   "source": [
    "import os\n",
    "from os.path import join\n",
    "import seaborn as sb\n",
    "import pandas as pd\n",
    "import matplotlib.pyplot as plt\n",
    "sb.set()\n",
    "# sb.set(rc={'figure.figsize':(16,10)})\n",
    "\n",
    "path = \"/home/ki/projects/work/osr/data/experiments/vary-encoder-test-2021-02-09-18-06-35/tiny-imagenet/softmax/20210209-18-06-36/\"\n",
    "\n",
    "\n",
    "for p in os.listdir(path):\n",
    "    total = join(path, p)\n",
    "    if os.path.isdir(total):\n",
    "        print(total)"
   ],
   "metadata": {
    "collapsed": false,
    "pycharm": {
     "name": "#%%\n"
    }
   }
  },
  {
   "cell_type": "code",
   "execution_count": null,
   "outputs": [],
   "source": [],
   "metadata": {
    "collapsed": false,
    "pycharm": {
     "name": "#%%\n"
    }
   }
  }
 ],
 "metadata": {
  "kernelspec": {
   "display_name": "Python 3",
   "language": "python",
   "name": "python3"
  },
  "language_info": {
   "codemirror_mode": {
    "name": "ipython",
    "version": 2
   },
   "file_extension": ".py",
   "mimetype": "text/x-python",
   "name": "python",
   "nbconvert_exporter": "python",
   "pygments_lexer": "ipython2",
   "version": "2.7.6"
  }
 },
 "nbformat": 4,
 "nbformat_minor": 0
}