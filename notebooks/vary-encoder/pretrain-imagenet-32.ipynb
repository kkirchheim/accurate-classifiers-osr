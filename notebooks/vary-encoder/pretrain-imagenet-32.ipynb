{
 "cells": [
  {
   "cell_type": "code",
   "execution_count": null,
   "metadata": {},
   "outputs": [],
   "source": [
    "import os \n",
    "os.environ[\"CUDA_VISIBLE_DEVICES\"] = \"GPU-cfc996e3-3993-d092-228c-0d39c868bf05\""
   ]
  },
  {
   "cell_type": "code",
   "execution_count": null,
   "metadata": {
    "pycharm": {
     "name": "#%%\n"
    }
   },
   "outputs": [],
   "source": [
    "from torchvision.datasets import ImageFolder\n",
    "from torchvision.models.resnet import resnet50, resnet18\n",
    "from torch.utils.data import DataLoader, random_split\n",
    "from torch.nn import CrossEntropyLoss\n",
    "from torch.optim import Adam\n",
    "from torchvision.transforms import ToTensor, Compose, Normalize\n",
    "from tqdm.notebook import tqdm \n",
    "import torch\n",
    "\n",
    "from neossim.pipeline.img import get_dataset_mean_std\n",
    "\n",
    "\n",
    "dataset = ImageFolder(\"/home/ki/tmp/datasets/imagenet-2010-openset-32x32\", transform=ToTensor())\n",
    "num_classes = 360\n",
    "\n",
    "model = resnet18(pretrained=False, num_classes=num_classes)\n",
    "\n",
    "size_train = int(0.9 * len(dataset))\n",
    "size_test = int(len(dataset) - size_train)\n",
    "ds_train, ds_val = random_split(dataset, lengths=[size_train, size_test])\n",
    "train_loader = DataLoader(ds_train, shuffle=True, num_workers=10, batch_size=128)\n",
    "val_loader = DataLoader(ds_val, num_workers=10, batch_size=512)\n",
    "criterion =  CrossEntropyLoss()\n",
    "optimizer = Adam(model.parameters())"
   ]
  },
  {
   "cell_type": "code",
   "execution_count": null,
   "metadata": {
    "pycharm": {
     "name": "#%%\n"
    }
   },
   "outputs": [],
   "source": [
    "# mean, std = get_dataset_mean_std(train_loader)\n",
    "# transform = Compose([ToTensor(), Normalize(mean=mean, std=std)])\n",
    "# dataset.transforms = transform"
   ]
  },
  {
   "cell_type": "code",
   "execution_count": null,
   "metadata": {
    "pycharm": {
     "name": "#%%\n"
    }
   },
   "outputs": [],
   "source": [
    "model.cuda()\n",
    "\n",
    "bar1 = tqdm(total=len(train_loader))\n",
    "bar2 = tqdm(total=len(val_loader))\n",
    "\n",
    "train_acc = []\n",
    "val_acc = []\n",
    "\n",
    "for epoch in range(100):\n",
    "    print(f\"Starting epoch {epoch}\")\n",
    "    # train one epoch \n",
    "    model.train()\n",
    "    correct = torch.tensor(0)\n",
    "    total= torch.tensor(0)\n",
    "    bar1.reset()\n",
    "    bar1.set_description(f\"Epoch {epoch}\")\n",
    "    bar1.refresh()\n",
    "    \n",
    "    for n, batch in enumerate(train_loader):\n",
    "        x,y = batch\n",
    "        x = x.cuda()\n",
    "        y = y.cuda()\n",
    "\n",
    "        optimizer.zero_grad()\n",
    "        prediction = model(x)\n",
    "        loss = criterion(prediction, y)\n",
    "        loss.backward()\n",
    "        optimizer.step()\n",
    "\n",
    "        y_hat = prediction.argmax(dim=1)\n",
    "        correct += (y_hat == y).sum().item()\n",
    "        total += x.shape[0]\n",
    "        bar1.set_postfix({\"Accuracy\": (correct / total).item(), \"Loss\": loss.item()})\n",
    "        bar1.update()\n",
    "\n",
    "    train_acc.append((correct / total).item())\n",
    "\n",
    "    # test \n",
    "    model.eval()\n",
    "    correct = torch.tensor(0)\n",
    "    total= torch.tensor(0)\n",
    "    bar2.reset()\n",
    "    bar2.set_description(f\"Epoch {epoch}\")\n",
    "    bar2.refresh()\n",
    "    \n",
    "    with torch.no_grad():\n",
    "        for n, batch in enumerate(val_loader):\n",
    "            x,y = batch\n",
    "            x = x.cuda()\n",
    "            y = y.cuda()\n",
    "\n",
    "            prediction = model(x)\n",
    "            y_hat = prediction.argmax(dim=1)\n",
    "\n",
    "            y_hat = prediction.argmax(dim=1)\n",
    "            correct += (y_hat == y).sum().item()\n",
    "            total += x.shape[0]\n",
    "            bar2.set_postfix({\"Accuracy\": (correct / total).item(), \"Loss\": loss.item()})\n",
    "            bar2.update()\n",
    "    \n",
    "    val_acc.append((correct / total).item())\n",
    "\n",
    "    path = f\"trained-model-resnet-18-32x32-{epoch}.pt\"\n",
    "    print(f\"==> Epoch {epoch}: Train {train_acc[-1]:.2%} Val {val_acc[-1]:.2%} -> {path}\")\n",
    "    torch.save(model.state_dict(), path)"
   ]
  },
  {
   "cell_type": "code",
   "execution_count": null,
   "metadata": {
    "pycharm": {
     "name": "#%%\n"
    }
   },
   "outputs": [],
   "source": [
    "torch.save(model.state_dict(), \"trained-model-32x32.pt\")"
   ]
  },
  {
   "cell_type": "code",
   "execution_count": null,
   "metadata": {
    "pycharm": {
     "name": "#%%\n"
    }
   },
   "outputs": [],
   "source": [
    "import matplotlib.pyplot as plt \n",
    "\n",
    "plt.plot(train_acc, label=\"train\")\n",
    "plt.plot(val_acc, label=\"val\")"
   ]
  },
  {
   "cell_type": "code",
   "execution_count": null,
   "metadata": {},
   "outputs": [],
   "source": []
  }
 ],
 "metadata": {
  "kernelspec": {
   "display_name": "osr-3.8",
   "language": "python",
   "name": "osr-3.8"
  },
  "language_info": {
   "codemirror_mode": {
    "name": "ipython",
    "version": 3
   },
   "file_extension": ".py",
   "mimetype": "text/x-python",
   "name": "python",
   "nbconvert_exporter": "python",
   "pygments_lexer": "ipython3",
   "version": "3.8.5"
  }
 },
 "nbformat": 4,
 "nbformat_minor": 1
}
