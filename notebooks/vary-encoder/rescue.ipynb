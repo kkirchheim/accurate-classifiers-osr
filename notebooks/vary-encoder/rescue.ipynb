{
 "cells": [
  {
   "cell_type": "code",
   "execution_count": 2,
   "metadata": {
    "collapsed": true
   },
   "outputs": [
    {
     "name": "stdout",
     "output_type": "stream",
     "text": [
      "Missing: /home/ki/projects/work/osr/data/experiments/vary-encoder-2021-06-17-13-31-20/svhn/softmax/features-resnet-18/version_7/results.pkl\n"
     ]
    }
   ],
   "source": [
    "import pandas as pd\n",
    "from os.path import join, exists\n",
    "\n",
    "path = \"/home/ki/projects/work/osr/data/experiments/vary-encoder-2021-06-17-13-31-20/svhn/softmax/features-resnet-18/\"\n",
    "files = [f\"version_{i}/results.pkl\" for i in range(21)]\n",
    "dfs = []\n",
    "for file in files:\n",
    "    if exists(join(path, file)):\n",
    "        dfs.append(pd.read_pickle(join(path, file)))\n",
    "    else:\n",
    "        print(f\"Missing: {join(path, file)}\")\n",
    "\n",
    "df = pd.concat(dfs)\n",
    "df.to_pickle(join(path, \"results.pkl\"))\n",
    "df.to_csv(join(path, \"results.csv\"))"
   ]
  },
  {
   "cell_type": "code",
   "execution_count": null,
   "outputs": [],
   "source": [],
   "metadata": {
    "collapsed": false,
    "pycharm": {
     "name": "#%%\n"
    }
   }
  }
 ],
 "metadata": {
  "kernelspec": {
   "display_name": "Python 3",
   "language": "python",
   "name": "python3"
  },
  "language_info": {
   "codemirror_mode": {
    "name": "ipython",
    "version": 2
   },
   "file_extension": ".py",
   "mimetype": "text/x-python",
   "name": "python",
   "nbconvert_exporter": "python",
   "pygments_lexer": "ipython2",
   "version": "2.7.6"
  }
 },
 "nbformat": 4,
 "nbformat_minor": 0
}